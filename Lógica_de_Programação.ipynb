{
  "nbformat": 4,
  "nbformat_minor": 0,
  "metadata": {
    "colab": {
      "provenance": [],
      "authorship_tag": "ABX9TyMvr1ycUKAF1iJ6pBpmk8OJ",
      "include_colab_link": true
    },
    "kernelspec": {
      "name": "python3",
      "display_name": "Python 3"
    },
    "language_info": {
      "name": "python"
    }
  },
  "cells": [
    {
      "cell_type": "markdown",
      "metadata": {
        "id": "view-in-github",
        "colab_type": "text"
      },
      "source": [
        "<a href=\"https://colab.research.google.com/github/denilson-tenorio/hello_word/blob/main/L%C3%B3gica_de_Programa%C3%A7%C3%A3o.ipynb\" target=\"_parent\"><img src=\"https://colab.research.google.com/assets/colab-badge.svg\" alt=\"Open In Colab\"/></a>"
      ]
    },
    {
      "cell_type": "markdown",
      "source": [
        "## Lógica de Programação com Python   30/12/2022 ☕"
      ],
      "metadata": {
        "id": "v0Lm-0fF4Uhl"
      }
    },
    {
      "cell_type": "code",
      "source": [
        "nome = 'Denilson ';\n",
        "sobrenome = 'Tenório ';\n",
        "idade = 24;\n",
        "print(f'O nome é {nome} e sua idade é {idade} anos');"
      ],
      "metadata": {
        "colab": {
          "base_uri": "https://localhost:8080/"
        },
        "id": "PjUMFREU5vqa",
        "outputId": "67b98b7b-ad9e-4cd9-d384-3b4371f54f6a"
      },
      "execution_count": 34,
      "outputs": [
        {
          "output_type": "stream",
          "name": "stdout",
          "text": [
            "O nome é Denilson  e sua idade é 24 anos\n"
          ]
        }
      ]
    },
    {
      "cell_type": "markdown",
      "source": [
        "Criando minha primeira função"
      ],
      "metadata": {
        "id": "XaqrA--S68U3"
      }
    },
    {
      "cell_type": "code",
      "source": [
        "def saudacao():\n",
        "  nome = input('Qual o seu nome? '); \n",
        "  print(f'Olá, {nome}!');"
      ],
      "metadata": {
        "id": "kLTGGJrT7Bj2"
      },
      "execution_count": 31,
      "outputs": []
    },
    {
      "cell_type": "code",
      "source": [
        "saudacao()"
      ],
      "metadata": {
        "colab": {
          "base_uri": "https://localhost:8080/"
        },
        "id": "uJ1w0uEW7itu",
        "outputId": "9c07b9cd-49c4-4d5f-f6ee-667a0538f8ae"
      },
      "execution_count": 32,
      "outputs": [
        {
          "output_type": "stream",
          "name": "stdout",
          "text": [
            "Qual o seu nome? Denilson\n",
            "Olá, Denilson!\n"
          ]
        }
      ]
    },
    {
      "cell_type": "code",
      "source": [
        "def registro():\n",
        "  print('Olá, vamos fazer o seu cadastro: ');\n",
        "  primeiro_nome = input('Qual o seu primeiro nome? ');\n",
        "  segundo_nome = input('Qual o seu sobrenome? ');\n",
        "  nome_completo = primeiro_nome + ' ' +segundo_nome;\n",
        "  idade = input('Qual a sua idade? '); \n",
        "  print(f'Cliente: {nome_completo} de {idade} anos de idade');\n",
        "\n",
        "registro();"
      ],
      "metadata": {
        "colab": {
          "base_uri": "https://localhost:8080/"
        },
        "id": "paY7I9UI-Em9",
        "outputId": "7b5ce8d7-9775-4252-cbb1-23f4304e33f3"
      },
      "execution_count": 37,
      "outputs": [
        {
          "output_type": "stream",
          "name": "stdout",
          "text": [
            "Olá, vamos fazer o seu cadastro: \n",
            "Qual o seu primeiro nome? Maria\n",
            "Qual o seu sobrenome? Cavalcante \n",
            "Qual a sua idade? 39\n",
            "Cliente: Maria Cavalcante  de 39 anos de idade\n"
          ]
        }
      ]
    }
  ]
}